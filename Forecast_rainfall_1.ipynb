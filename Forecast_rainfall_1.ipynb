{
  "cells": [
    {
      "cell_type": "code",
      "execution_count": null,
      "metadata": {
        "id": "aJ9id_v9_5aX"
      },
      "outputs": [],
      "source": [
        "import pandas as pd\n",
        "import numpy as np\n",
        "import matplotlib.pyplot as plt\n",
        "import os\n",
        "import math\n",
        "#from tensorflow import keras\n",
        "from datetime import datetime\n",
        "from tensorflow.keras.preprocessing.sequence import TimeseriesGenerator\n",
        "import smtplib\n",
        "from email.message import EmailMessage\n",
        "get_ipython().run_line_magic('matplotlib', 'inline')\n",
        "import numpy.matlib\n",
        "pd.options.mode.chained_assignment = None  # default='warn\n",
        "import warnings\n",
        "warnings.filterwarnings('ignore')\n",
        "from sklearn.cluster import KMeans\n",
        "import tensorflow as tf\n",
        "from tensorflow.keras import Sequential\n",
        "from tensorflow.keras.models import Model\n",
        "from tensorflow.keras.metrics import RootMeanSquaredError\n",
        "from tensorflow.keras.models import Sequential\n",
        "from tensorflow.keras.layers import Dense, Activation, RepeatVector, TimeDistributed, BatchNormalization, Convolution2D, MaxPooling2D, Flatten, Conv1D, MaxPooling1D, Input, Bidirectional\n",
        "from tensorflow.keras.optimizers import Adam\n",
        "from tensorflow.keras.layers import LSTM, GRU\n",
        "from tensorflow.keras.layers import Dropout\n",
        "from tensorflow.keras.optimizers import Adam\n",
        "from sklearn.preprocessing import MinMaxScaler\n",
        "from tensorflow.keras.models import load_model\n",
        "from tensorflow.keras.callbacks import EarlyStopping, ReduceLROnPlateau, CSVLogger, LearningRateScheduler\n",
        "from tensorflow.keras.callbacks import ModelCheckpoint\n",
        "from tensorflow.keras.losses import Huber, MeanSquaredError\n",
        "from tensorflow.keras.regularizers import l2\n",
        "from time import time\n",
        "import itertools\n",
        "import random\n",
        "\n",
        "import os\n",
        "from sklearn.metrics import classification_report\n"
      ]
    },
    {
      "cell_type": "code",
      "execution_count": null,
      "metadata": {
        "colab": {
          "base_uri": "https://localhost:8080/"
        },
        "id": "sWqZR-90__JB",
        "outputId": "51d83b3b-5b65-4eab-af6d-8dc2d324dbfc"
      },
      "outputs": [
        {
          "output_type": "stream",
          "name": "stdout",
          "text": [
            "Mounted at /content/drive\n"
          ]
        }
      ],
      "source": [
        "from google.colab import drive\n",
        "drive.mount('/content/drive')"
      ]
    },
    {
      "cell_type": "code",
      "execution_count": null,
      "metadata": {
        "id": "jLQXkvjSABCo"
      },
      "outputs": [],
      "source": [
        "df=pd.read_csv(\"/content/drive/MyDrive/CC5220/Data.csv\",index_col=0)"
      ]
    },
    {
      "cell_type": "code",
      "execution_count": null,
      "metadata": {
        "colab": {
          "base_uri": "https://localhost:8080/",
          "height": 661
        },
        "id": "ev3NVkYoZ-7h",
        "outputId": "fbf2019d-9d62-4c5d-cfde-12a6967b0fc6"
      },
      "outputs": [
        {
          "output_type": "execute_result",
          "data": {
            "text/plain": [
              "             date  Dry_Bulb_Temp  Wet_Bulb_Temp  Dew_Point_Temp    R_H  \\\n",
              "0      1969-01-01          20.00          18.80          18.150  89.50   \n",
              "1      1969-01-02          18.50          18.10          17.900  96.00   \n",
              "2      1969-01-03          20.50          18.70          17.700  84.00   \n",
              "3      1969-01-04          19.70          17.00          15.350  76.00   \n",
              "4      1969-01-05          19.30          17.70          16.800  85.50   \n",
              "...           ...            ...            ...             ...    ...   \n",
              "18807  2021-11-26          24.85          18.65          14.825  55.75   \n",
              "18808  2021-11-27          22.40          17.95          15.250  66.00   \n",
              "18809  2021-11-28          24.30          19.20          16.200  61.75   \n",
              "18810  2021-11-29          23.30          19.45          17.325  69.50   \n",
              "18811  2021-11-30          24.20          19.00          16.025  60.75   \n",
              "\n",
              "       Vapor_Pressure  Wind_Speed  Total_Amount_cloud  Daily_Min_Temp  \\\n",
              "0              20.850         9.0                5.50            19.2   \n",
              "1              20.500         1.0                5.00            16.7   \n",
              "2              20.250         6.0                4.50            17.5   \n",
              "3              17.450        12.0                1.50            17.8   \n",
              "4              19.150         7.0                3.50            16.0   \n",
              "...               ...         ...                 ...             ...   \n",
              "18807          16.975         0.0                2.25            17.2   \n",
              "18808          17.375         1.0                4.25            16.9   \n",
              "18809          18.575         1.0                6.50            18.3   \n",
              "18810          19.800         6.0                6.00            20.9   \n",
              "18811          18.225         1.5                3.25            18.8   \n",
              "\n",
              "       Sunshine_Hours  Amt_Individual_Layer_Cloud  Evaporation  \\\n",
              "0                 9.5                      429.50    12.000000   \n",
              "1                 8.0                      639.00    41.500000   \n",
              "2                 9.8                      917.00    70.000000   \n",
              "3                 9.5                      916.50    79.500000   \n",
              "4                10.0                      653.50    34.000000   \n",
              "...               ...                         ...          ...   \n",
              "18807             8.1                      378.25    40.000000   \n",
              "18808             9.0                      740.25    42.500000   \n",
              "18809             5.4                      844.75    49.500000   \n",
              "18810             5.5                      741.50    42.500000   \n",
              "18811             0.0                      508.75    36.666667   \n",
              "\n",
              "       Daily_Max_Temp  Total_Rainfall  \n",
              "0                23.6             9.0  \n",
              "1                28.7             8.0  \n",
              "2                28.5             4.0  \n",
              "3                29.7             3.0  \n",
              "4                28.4             7.0  \n",
              "...               ...             ...  \n",
              "18807            32.2             5.0  \n",
              "18808            31.0            11.0  \n",
              "18809            29.6            19.0  \n",
              "18810            29.3            16.0  \n",
              "18811            27.2             6.0  \n",
              "\n",
              "[18812 rows x 14 columns]"
            ],
            "text/html": [
              "\n",
              "  <div id=\"df-a806619a-2641-4bb5-b670-0ddcb948fcd3\">\n",
              "    <div class=\"colab-df-container\">\n",
              "      <div>\n",
              "<style scoped>\n",
              "    .dataframe tbody tr th:only-of-type {\n",
              "        vertical-align: middle;\n",
              "    }\n",
              "\n",
              "    .dataframe tbody tr th {\n",
              "        vertical-align: top;\n",
              "    }\n",
              "\n",
              "    .dataframe thead th {\n",
              "        text-align: right;\n",
              "    }\n",
              "</style>\n",
              "<table border=\"1\" class=\"dataframe\">\n",
              "  <thead>\n",
              "    <tr style=\"text-align: right;\">\n",
              "      <th></th>\n",
              "      <th>date</th>\n",
              "      <th>Dry_Bulb_Temp</th>\n",
              "      <th>Wet_Bulb_Temp</th>\n",
              "      <th>Dew_Point_Temp</th>\n",
              "      <th>R_H</th>\n",
              "      <th>Vapor_Pressure</th>\n",
              "      <th>Wind_Speed</th>\n",
              "      <th>Total_Amount_cloud</th>\n",
              "      <th>Daily_Min_Temp</th>\n",
              "      <th>Sunshine_Hours</th>\n",
              "      <th>Amt_Individual_Layer_Cloud</th>\n",
              "      <th>Evaporation</th>\n",
              "      <th>Daily_Max_Temp</th>\n",
              "      <th>Total_Rainfall</th>\n",
              "    </tr>\n",
              "  </thead>\n",
              "  <tbody>\n",
              "    <tr>\n",
              "      <th>0</th>\n",
              "      <td>1969-01-01</td>\n",
              "      <td>20.00</td>\n",
              "      <td>18.80</td>\n",
              "      <td>18.150</td>\n",
              "      <td>89.50</td>\n",
              "      <td>20.850</td>\n",
              "      <td>9.0</td>\n",
              "      <td>5.50</td>\n",
              "      <td>19.2</td>\n",
              "      <td>9.5</td>\n",
              "      <td>429.50</td>\n",
              "      <td>12.000000</td>\n",
              "      <td>23.6</td>\n",
              "      <td>9.0</td>\n",
              "    </tr>\n",
              "    <tr>\n",
              "      <th>1</th>\n",
              "      <td>1969-01-02</td>\n",
              "      <td>18.50</td>\n",
              "      <td>18.10</td>\n",
              "      <td>17.900</td>\n",
              "      <td>96.00</td>\n",
              "      <td>20.500</td>\n",
              "      <td>1.0</td>\n",
              "      <td>5.00</td>\n",
              "      <td>16.7</td>\n",
              "      <td>8.0</td>\n",
              "      <td>639.00</td>\n",
              "      <td>41.500000</td>\n",
              "      <td>28.7</td>\n",
              "      <td>8.0</td>\n",
              "    </tr>\n",
              "    <tr>\n",
              "      <th>2</th>\n",
              "      <td>1969-01-03</td>\n",
              "      <td>20.50</td>\n",
              "      <td>18.70</td>\n",
              "      <td>17.700</td>\n",
              "      <td>84.00</td>\n",
              "      <td>20.250</td>\n",
              "      <td>6.0</td>\n",
              "      <td>4.50</td>\n",
              "      <td>17.5</td>\n",
              "      <td>9.8</td>\n",
              "      <td>917.00</td>\n",
              "      <td>70.000000</td>\n",
              "      <td>28.5</td>\n",
              "      <td>4.0</td>\n",
              "    </tr>\n",
              "    <tr>\n",
              "      <th>3</th>\n",
              "      <td>1969-01-04</td>\n",
              "      <td>19.70</td>\n",
              "      <td>17.00</td>\n",
              "      <td>15.350</td>\n",
              "      <td>76.00</td>\n",
              "      <td>17.450</td>\n",
              "      <td>12.0</td>\n",
              "      <td>1.50</td>\n",
              "      <td>17.8</td>\n",
              "      <td>9.5</td>\n",
              "      <td>916.50</td>\n",
              "      <td>79.500000</td>\n",
              "      <td>29.7</td>\n",
              "      <td>3.0</td>\n",
              "    </tr>\n",
              "    <tr>\n",
              "      <th>4</th>\n",
              "      <td>1969-01-05</td>\n",
              "      <td>19.30</td>\n",
              "      <td>17.70</td>\n",
              "      <td>16.800</td>\n",
              "      <td>85.50</td>\n",
              "      <td>19.150</td>\n",
              "      <td>7.0</td>\n",
              "      <td>3.50</td>\n",
              "      <td>16.0</td>\n",
              "      <td>10.0</td>\n",
              "      <td>653.50</td>\n",
              "      <td>34.000000</td>\n",
              "      <td>28.4</td>\n",
              "      <td>7.0</td>\n",
              "    </tr>\n",
              "    <tr>\n",
              "      <th>...</th>\n",
              "      <td>...</td>\n",
              "      <td>...</td>\n",
              "      <td>...</td>\n",
              "      <td>...</td>\n",
              "      <td>...</td>\n",
              "      <td>...</td>\n",
              "      <td>...</td>\n",
              "      <td>...</td>\n",
              "      <td>...</td>\n",
              "      <td>...</td>\n",
              "      <td>...</td>\n",
              "      <td>...</td>\n",
              "      <td>...</td>\n",
              "      <td>...</td>\n",
              "    </tr>\n",
              "    <tr>\n",
              "      <th>18807</th>\n",
              "      <td>2021-11-26</td>\n",
              "      <td>24.85</td>\n",
              "      <td>18.65</td>\n",
              "      <td>14.825</td>\n",
              "      <td>55.75</td>\n",
              "      <td>16.975</td>\n",
              "      <td>0.0</td>\n",
              "      <td>2.25</td>\n",
              "      <td>17.2</td>\n",
              "      <td>8.1</td>\n",
              "      <td>378.25</td>\n",
              "      <td>40.000000</td>\n",
              "      <td>32.2</td>\n",
              "      <td>5.0</td>\n",
              "    </tr>\n",
              "    <tr>\n",
              "      <th>18808</th>\n",
              "      <td>2021-11-27</td>\n",
              "      <td>22.40</td>\n",
              "      <td>17.95</td>\n",
              "      <td>15.250</td>\n",
              "      <td>66.00</td>\n",
              "      <td>17.375</td>\n",
              "      <td>1.0</td>\n",
              "      <td>4.25</td>\n",
              "      <td>16.9</td>\n",
              "      <td>9.0</td>\n",
              "      <td>740.25</td>\n",
              "      <td>42.500000</td>\n",
              "      <td>31.0</td>\n",
              "      <td>11.0</td>\n",
              "    </tr>\n",
              "    <tr>\n",
              "      <th>18809</th>\n",
              "      <td>2021-11-28</td>\n",
              "      <td>24.30</td>\n",
              "      <td>19.20</td>\n",
              "      <td>16.200</td>\n",
              "      <td>61.75</td>\n",
              "      <td>18.575</td>\n",
              "      <td>1.0</td>\n",
              "      <td>6.50</td>\n",
              "      <td>18.3</td>\n",
              "      <td>5.4</td>\n",
              "      <td>844.75</td>\n",
              "      <td>49.500000</td>\n",
              "      <td>29.6</td>\n",
              "      <td>19.0</td>\n",
              "    </tr>\n",
              "    <tr>\n",
              "      <th>18810</th>\n",
              "      <td>2021-11-29</td>\n",
              "      <td>23.30</td>\n",
              "      <td>19.45</td>\n",
              "      <td>17.325</td>\n",
              "      <td>69.50</td>\n",
              "      <td>19.800</td>\n",
              "      <td>6.0</td>\n",
              "      <td>6.00</td>\n",
              "      <td>20.9</td>\n",
              "      <td>5.5</td>\n",
              "      <td>741.50</td>\n",
              "      <td>42.500000</td>\n",
              "      <td>29.3</td>\n",
              "      <td>16.0</td>\n",
              "    </tr>\n",
              "    <tr>\n",
              "      <th>18811</th>\n",
              "      <td>2021-11-30</td>\n",
              "      <td>24.20</td>\n",
              "      <td>19.00</td>\n",
              "      <td>16.025</td>\n",
              "      <td>60.75</td>\n",
              "      <td>18.225</td>\n",
              "      <td>1.5</td>\n",
              "      <td>3.25</td>\n",
              "      <td>18.8</td>\n",
              "      <td>0.0</td>\n",
              "      <td>508.75</td>\n",
              "      <td>36.666667</td>\n",
              "      <td>27.2</td>\n",
              "      <td>6.0</td>\n",
              "    </tr>\n",
              "  </tbody>\n",
              "</table>\n",
              "<p>18812 rows × 14 columns</p>\n",
              "</div>\n",
              "      <button class=\"colab-df-convert\" onclick=\"convertToInteractive('df-a806619a-2641-4bb5-b670-0ddcb948fcd3')\"\n",
              "              title=\"Convert this dataframe to an interactive table.\"\n",
              "              style=\"display:none;\">\n",
              "        \n",
              "  <svg xmlns=\"http://www.w3.org/2000/svg\" height=\"24px\"viewBox=\"0 0 24 24\"\n",
              "       width=\"24px\">\n",
              "    <path d=\"M0 0h24v24H0V0z\" fill=\"none\"/>\n",
              "    <path d=\"M18.56 5.44l.94 2.06.94-2.06 2.06-.94-2.06-.94-.94-2.06-.94 2.06-2.06.94zm-11 1L8.5 8.5l.94-2.06 2.06-.94-2.06-.94L8.5 2.5l-.94 2.06-2.06.94zm10 10l.94 2.06.94-2.06 2.06-.94-2.06-.94-.94-2.06-.94 2.06-2.06.94z\"/><path d=\"M17.41 7.96l-1.37-1.37c-.4-.4-.92-.59-1.43-.59-.52 0-1.04.2-1.43.59L10.3 9.45l-7.72 7.72c-.78.78-.78 2.05 0 2.83L4 21.41c.39.39.9.59 1.41.59.51 0 1.02-.2 1.41-.59l7.78-7.78 2.81-2.81c.8-.78.8-2.07 0-2.86zM5.41 20L4 18.59l7.72-7.72 1.47 1.35L5.41 20z\"/>\n",
              "  </svg>\n",
              "      </button>\n",
              "      \n",
              "  <style>\n",
              "    .colab-df-container {\n",
              "      display:flex;\n",
              "      flex-wrap:wrap;\n",
              "      gap: 12px;\n",
              "    }\n",
              "\n",
              "    .colab-df-convert {\n",
              "      background-color: #E8F0FE;\n",
              "      border: none;\n",
              "      border-radius: 50%;\n",
              "      cursor: pointer;\n",
              "      display: none;\n",
              "      fill: #1967D2;\n",
              "      height: 32px;\n",
              "      padding: 0 0 0 0;\n",
              "      width: 32px;\n",
              "    }\n",
              "\n",
              "    .colab-df-convert:hover {\n",
              "      background-color: #E2EBFA;\n",
              "      box-shadow: 0px 1px 2px rgba(60, 64, 67, 0.3), 0px 1px 3px 1px rgba(60, 64, 67, 0.15);\n",
              "      fill: #174EA6;\n",
              "    }\n",
              "\n",
              "    [theme=dark] .colab-df-convert {\n",
              "      background-color: #3B4455;\n",
              "      fill: #D2E3FC;\n",
              "    }\n",
              "\n",
              "    [theme=dark] .colab-df-convert:hover {\n",
              "      background-color: #434B5C;\n",
              "      box-shadow: 0px 1px 3px 1px rgba(0, 0, 0, 0.15);\n",
              "      filter: drop-shadow(0px 1px 2px rgba(0, 0, 0, 0.3));\n",
              "      fill: #FFFFFF;\n",
              "    }\n",
              "  </style>\n",
              "\n",
              "      <script>\n",
              "        const buttonEl =\n",
              "          document.querySelector('#df-a806619a-2641-4bb5-b670-0ddcb948fcd3 button.colab-df-convert');\n",
              "        buttonEl.style.display =\n",
              "          google.colab.kernel.accessAllowed ? 'block' : 'none';\n",
              "\n",
              "        async function convertToInteractive(key) {\n",
              "          const element = document.querySelector('#df-a806619a-2641-4bb5-b670-0ddcb948fcd3');\n",
              "          const dataTable =\n",
              "            await google.colab.kernel.invokeFunction('convertToInteractive',\n",
              "                                                     [key], {});\n",
              "          if (!dataTable) return;\n",
              "\n",
              "          const docLinkHtml = 'Like what you see? Visit the ' +\n",
              "            '<a target=\"_blank\" href=https://colab.research.google.com/notebooks/data_table.ipynb>data table notebook</a>'\n",
              "            + ' to learn more about interactive tables.';\n",
              "          element.innerHTML = '';\n",
              "          dataTable['output_type'] = 'display_data';\n",
              "          await google.colab.output.renderOutput(dataTable, element);\n",
              "          const docLink = document.createElement('div');\n",
              "          docLink.innerHTML = docLinkHtml;\n",
              "          element.appendChild(docLink);\n",
              "        }\n",
              "      </script>\n",
              "    </div>\n",
              "  </div>\n",
              "  "
            ]
          },
          "metadata": {},
          "execution_count": 4
        }
      ],
      "source": [
        "df"
      ]
    },
    {
      "cell_type": "code",
      "execution_count": null,
      "metadata": {
        "id": "3krC3k4FAw3r"
      },
      "outputs": [],
      "source": [
        "df.set_index('date',inplace=True)\n",
        "df_train=df[:-30]\n",
        "df_test=df[-30:]\n",
        "y = df_train['Total_Rainfall']\n",
        "\n"
      ]
    },
    {
      "cell_type": "code",
      "execution_count": null,
      "metadata": {
        "id": "a2X-7IvkBM9r"
      },
      "outputs": [],
      "source": [
        "y = y.values.reshape(-1, 1)\n",
        "\n",
        "# scale the data\n",
        "scaler = MinMaxScaler(feature_range=(0, 1))\n",
        "scaler = scaler.fit(y)\n",
        "y = scaler.transform(y)\n",
        "\n",
        "# generate the input and output sequences\n",
        "n_lookback = 10  # length of input sequences (lookback period)\n",
        "n_forecast = 5 # length of output sequences (forecast period)\n",
        "\n",
        "X = []\n",
        "Y = []\n",
        "\n",
        "for i in range(n_lookback, len(y) - n_forecast + 1):\n",
        "    X.append(y[i - n_lookback: i])\n",
        "    Y.append(y[i: i + n_forecast])\n",
        "\n",
        "X = np.array(X)\n",
        "Y = np.array(Y)\n"
      ]
    },
    {
      "cell_type": "code",
      "execution_count": null,
      "metadata": {
        "colab": {
          "base_uri": "https://localhost:8080/"
        },
        "id": "37_wieo1RmF_",
        "outputId": "f928d96e-588b-48e3-b81a-185334d1baf8"
      },
      "outputs": [
        {
          "output_type": "stream",
          "name": "stdout",
          "text": [
            "(18768, 10, 1) (18768, 5, 1)\n"
          ]
        }
      ],
      "source": [
        "print(X.shape,Y.shape)"
      ]
    },
    {
      "cell_type": "code",
      "execution_count": null,
      "metadata": {
        "colab": {
          "base_uri": "https://localhost:8080/",
          "height": 1000
        },
        "id": "4nASy-j_BUZZ",
        "outputId": "562b44b6-230d-4f27-e62c-608106681a36"
      },
      "outputs": [
        {
          "output_type": "stream",
          "name": "stdout",
          "text": [
            "Epoch 1/45\n",
            "261/261 - 11s - loss: 0.1306 - 11s/epoch - 44ms/step\n",
            "Epoch 2/45\n",
            "261/261 - 2s - loss: 0.1243 - 2s/epoch - 6ms/step\n",
            "Epoch 3/45\n",
            "261/261 - 1s - loss: 0.1212 - 1s/epoch - 5ms/step\n",
            "Epoch 4/45\n",
            "261/261 - 1s - loss: 0.1199 - 1s/epoch - 5ms/step\n",
            "Epoch 5/45\n",
            "261/261 - 1s - loss: 0.1194 - 1s/epoch - 5ms/step\n",
            "Epoch 6/45\n",
            "261/261 - 1s - loss: 0.1190 - 1s/epoch - 5ms/step\n",
            "Epoch 7/45\n",
            "261/261 - 1s - loss: 0.1188 - 1s/epoch - 5ms/step\n",
            "Epoch 8/45\n",
            "261/261 - 1s - loss: 0.1186 - 1s/epoch - 5ms/step\n",
            "Epoch 9/45\n",
            "261/261 - 1s - loss: 0.1185 - 1s/epoch - 5ms/step\n",
            "Epoch 10/45\n",
            "261/261 - 2s - loss: 0.1183 - 2s/epoch - 7ms/step\n",
            "Epoch 11/45\n",
            "261/261 - 2s - loss: 0.1182 - 2s/epoch - 7ms/step\n",
            "Epoch 12/45\n",
            "261/261 - 1s - loss: 0.1181 - 1s/epoch - 5ms/step\n",
            "Epoch 13/45\n",
            "261/261 - 1s - loss: 0.1181 - 1s/epoch - 5ms/step\n",
            "Epoch 14/45\n",
            "261/261 - 1s - loss: 0.1180 - 1s/epoch - 5ms/step\n",
            "Epoch 15/45\n",
            "261/261 - 1s - loss: 0.1180 - 1s/epoch - 5ms/step\n",
            "Epoch 16/45\n",
            "261/261 - 1s - loss: 0.1179 - 1s/epoch - 5ms/step\n",
            "Epoch 17/45\n",
            "261/261 - 1s - loss: 0.1179 - 1s/epoch - 5ms/step\n",
            "Epoch 18/45\n",
            "261/261 - 1s - loss: 0.1178 - 1s/epoch - 5ms/step\n",
            "Epoch 19/45\n",
            "261/261 - 1s - loss: 0.1178 - 1s/epoch - 6ms/step\n",
            "Epoch 20/45\n",
            "261/261 - 2s - loss: 0.1177 - 2s/epoch - 7ms/step\n",
            "Epoch 21/45\n",
            "261/261 - 2s - loss: 0.1177 - 2s/epoch - 6ms/step\n",
            "Epoch 22/45\n",
            "261/261 - 1s - loss: 0.1177 - 1s/epoch - 5ms/step\n",
            "Epoch 23/45\n",
            "261/261 - 1s - loss: 0.1176 - 1s/epoch - 5ms/step\n",
            "Epoch 24/45\n",
            "261/261 - 1s - loss: 0.1176 - 1s/epoch - 5ms/step\n",
            "Epoch 25/45\n",
            "261/261 - 2s - loss: 0.1176 - 2s/epoch - 8ms/step\n",
            "Epoch 26/45\n",
            "261/261 - 2s - loss: 0.1175 - 2s/epoch - 6ms/step\n",
            "Epoch 27/45\n",
            "261/261 - 1s - loss: 0.1175 - 1s/epoch - 5ms/step\n",
            "Epoch 28/45\n",
            "261/261 - 2s - loss: 0.1175 - 2s/epoch - 6ms/step\n",
            "Epoch 29/45\n",
            "261/261 - 2s - loss: 0.1175 - 2s/epoch - 7ms/step\n",
            "Epoch 30/45\n",
            "261/261 - 2s - loss: 0.1174 - 2s/epoch - 6ms/step\n",
            "Epoch 31/45\n",
            "261/261 - 1s - loss: 0.1174 - 1s/epoch - 5ms/step\n",
            "Epoch 32/45\n",
            "261/261 - 1s - loss: 0.1174 - 1s/epoch - 5ms/step\n",
            "Epoch 33/45\n",
            "261/261 - 1s - loss: 0.1174 - 1s/epoch - 5ms/step\n",
            "Epoch 34/45\n",
            "261/261 - 1s - loss: 0.1173 - 1s/epoch - 5ms/step\n",
            "Epoch 35/45\n",
            "261/261 - 1s - loss: 0.1173 - 1s/epoch - 5ms/step\n",
            "Epoch 36/45\n",
            "261/261 - 1s - loss: 0.1173 - 1s/epoch - 5ms/step\n",
            "Epoch 37/45\n",
            "261/261 - 1s - loss: 0.1173 - 1s/epoch - 5ms/step\n",
            "Epoch 38/45\n",
            "261/261 - 2s - loss: 0.1172 - 2s/epoch - 7ms/step\n",
            "Epoch 39/45\n",
            "261/261 - 2s - loss: 0.1172 - 2s/epoch - 7ms/step\n",
            "Epoch 40/45\n",
            "261/261 - 1s - loss: 0.1172 - 1s/epoch - 5ms/step\n",
            "Epoch 41/45\n",
            "261/261 - 1s - loss: 0.1172 - 1s/epoch - 5ms/step\n",
            "Epoch 42/45\n",
            "261/261 - 1s - loss: 0.1172 - 1s/epoch - 5ms/step\n",
            "Epoch 43/45\n",
            "261/261 - 1s - loss: 0.1172 - 1s/epoch - 5ms/step\n",
            "Epoch 44/45\n",
            "261/261 - 1s - loss: 0.1172 - 1s/epoch - 5ms/step\n",
            "Epoch 45/45\n",
            "261/261 - 1s - loss: 0.1171 - 1s/epoch - 5ms/step\n"
          ]
        },
        {
          "output_type": "display_data",
          "data": {
            "text/plain": [
              "<Figure size 432x288 with 1 Axes>"
            ],
            "image/png": "[encoded data removed]"
          },
          "metadata": {
            "needs_background": "light"
          }
        }
      ],
      "source": [
        "\n",
        "# fit the model\n",
        "model = Sequential()\n",
        "model.add(LSTM(units=120,return_sequences=True, input_shape=(n_lookback, 1)))\n",
        "model.add(LSTM(40))\n",
        "model.add(Dense(n_forecast))\n",
        "\n",
        "model.compile(loss='mae', optimizer='adam')\n",
        "history=model.fit(X, Y, epochs=45, batch_size=72, verbose=2,shuffle=False)\n",
        "# plot history\n",
        "plt.plot(history.history['loss'], label='train')\n",
        "plt.legend()\n",
        "plt.show()\n"
      ]
    },
    {
      "cell_type": "code",
      "execution_count": null,
      "metadata": {
        "colab": {
          "base_uri": "https://localhost:8080/",
          "height": 392
        },
        "id": "EUSv6oRUBXdn",
        "outputId": "7707885f-829c-4c9b-b3b9-321fa2194cb9"
      },
      "outputs": [
        {
          "output_type": "stream",
          "name": "stdout",
          "text": [
            "1/1 [==============================] - 1s 851ms/step\n"
          ]
        },
        {
          "output_type": "execute_result",
          "data": {
            "text/plain": [
              "<Axes: xlabel='Date'>"
            ]
          },
          "metadata": {},
          "execution_count": 9
        },
        {
          "output_type": "display_data",
          "data": {
            "text/plain": [
              "<Figure size 1440x360 with 1 Axes>"
            ],
            "image/png": "[encoded data removed]"
          },
          "metadata": {
            "needs_background": "light"
          }
        }
      ],
      "source": [
        "# generate the forecasts\n",
        "X_ = y[- n_lookback:]  # last available input sequence\n",
        "X_ = X_.reshape(1, n_lookback, 1)\n",
        "\n",
        "Y_ = model.predict(X_).reshape(-1, 1)\n",
        "Y_ = scaler.inverse_transform(Y_)\n",
        "\n",
        "# organize the results in a data frame\n",
        "df_past = df_train[['Total_Rainfall']].reset_index()\n",
        "df_past.rename(columns={'date': 'Date', 'Total_Rainfall': 'Actual'}, inplace=True)\n",
        "df_past['Date'] = pd.to_datetime(df_past['Date'])\n",
        "df_past['Forecast'] = np.nan\n",
        "df_past['Forecast'].iloc[-1] = df_past['Actual'].iloc[-1]\n",
        "\n",
        "df_future = pd.DataFrame(columns=['Date', 'Actual', 'Forecast'])\n",
        "df_future['Date'] = pd.date_range(start=df_past['Date'].iloc[-1] + pd.Timedelta(days=1), periods=n_forecast)\n",
        "df_future['Forecast'] = Y_.flatten()\n",
        "df_future['Actual'] = np.nan\n",
        "\n",
        "results = df_past.append(df_future).set_index('Date')\n",
        "results[-60:].plot(figsize=(20,5))"
      ]
    },
    {
      "cell_type": "code",
      "execution_count": null,
      "metadata": {
        "id": "y9etfclsD_Ir",
        "colab": {
          "base_uri": "https://localhost:8080/"
        },
        "outputId": "f7766914-5212-41b7-ebd1-1e06fe849e4f"
      },
      "outputs": [
        {
          "output_type": "execute_result",
          "data": {
            "text/plain": [
              "array([10., 10.,  7., 13., 11.])"
            ]
          },
          "metadata": {},
          "execution_count": 13
        }
      ],
      "source": [
        "t=df_test.iloc[:5]['Total_Rainfall'].values\n",
        "t"
      ]
    },
    {
      "cell_type": "code",
      "execution_count": null,
      "metadata": {
        "colab": {
          "base_uri": "https://localhost:8080/"
        },
        "id": "gWcpsXzwERab",
        "outputId": "5f094237-60cc-4623-b415-73f5a6c44fea"
      },
      "outputs": [
        {
          "output_type": "execute_result",
          "data": {
            "text/plain": [
              "array([9.02960491, 9.13029861, 9.2831192 , 8.88461685, 9.00830269])"
            ]
          },
          "metadata": {},
          "execution_count": 12
        }
      ],
      "source": [
        "f=results.iloc[-5:]['Forecast'].values\n",
        "f"
      ]
    },
    {
      "cell_type": "code",
      "source": [],
      "metadata": {
        "colab": {
          "base_uri": "https://localhost:8080/",
          "height": 479
        },
        "id": "7i0WzPu-aQCb",
        "outputId": "0cae5722-9cd4-4027-975f-fdc2c966e461"
      },
      "execution_count": null,
      "outputs": [
        {
          "output_type": "execute_result",
          "data": {
            "text/plain": [
              "date\n",
              "2021-11-01    10.0\n",
              "2021-11-02    10.0\n",
              "2021-11-03     7.0\n",
              "2021-11-04    13.0\n",
              "2021-11-05    11.0\n",
              "Name: Total_Rainfall, dtype: float64"
            ]
          },
          "metadata": {},
          "execution_count": 17
        },
        {
          "output_type": "display_data",
          "data": {
            "text/plain": [
              "<Figure size 1440x360 with 1 Axes>"
            ],
            "image/png": "[encoded data removed]"
          },
          "metadata": {
            "needs_background": "light"
          }
        }
      ]
    },
    {
      "cell_type": "code",
      "source": [],
      "metadata": {
        "id": "lpMx4LNGLetE"
      },
      "execution_count": null,
      "outputs": []
    },
    {
      "cell_type": "code",
      "source": [
        "results.iloc[-5:]['Actual']=df_test.iloc[:5]['Total_Rainfall']"
      ],
      "metadata": {
        "id": "SuLasfL9amVQ"
      },
      "execution_count": null,
      "outputs": []
    },
    {
      "cell_type": "code",
      "execution_count": null,
      "metadata": {
        "colab": {
          "base_uri": "https://localhost:8080/"
        },
        "id": "-m4u5Kud7ezX",
        "outputId": "f0c50c67-45cf-4b28-bfb3-c46141db60b8"
      },
      "outputs": [
        {
          "output_type": "stream",
          "name": "stdout",
          "text": [
            "RMSE: 2.270372105979733\n",
            "MAE: 1.9292242050170898\n",
            "MAPE: 0.2119015835824351\n"
          ]
        }
      ],
      "source": [
        "from sklearn.metrics import mean_squared_error\n",
        "print(\"RMSE:\",np.sqrt(mean_squared_error(results.iloc[-5:]['Forecast'].values,df_test.iloc[:5]['Total_Rainfall'].values)))\n",
        "from sklearn.metrics import mean_absolute_error\n",
        "print(\"MAE:\",mean_absolute_error(results.iloc[-5:]['Forecast'].values,df_test.iloc[:5]['Total_Rainfall'].values))\n",
        "from sklearn.metrics import mean_absolute_percentage_error\n",
        "print(\"MAPE:\",mean_absolute_percentage_error(results.iloc[-5:]['Forecast'].values,df_test.iloc[:5]['Total_Rainfall'].values))\n"
      ]
    },
    {
      "cell_type": "code",
      "execution_count": null,
      "metadata": {
        "colab": {
          "base_uri": "https://localhost:8080/"
        },
        "id": "2BrslIvTHiF0",
        "outputId": "49cec61f-df4b-4054-f251-ba0e16f6b970"
      },
      "outputs": [
        {
          "output_type": "stream",
          "name": "stdout",
          "text": [
            "Model: \"sequential\"\n",
            "_________________________________________________________________\n",
            " Layer (type)                Output Shape              Param #   \n",
            "=================================================================\n",
            " lstm (LSTM)                 (None, 10, 120)           58560     \n",
            "                                                                 \n",
            " lstm_1 (LSTM)               (None, 40)                25760     \n",
            "                                                                 \n",
            " dense (Dense)               (None, 5)                 205       \n",
            "                                                                 \n",
            "=================================================================\n",
            "Total params: 84,525\n",
            "Trainable params: 84,525\n",
            "Non-trainable params: 0\n",
            "_________________________________________________________________\n"
          ]
        }
      ],
      "source": [
        "model.summary()"
      ]
    }
  ],
  "metadata": {
    "accelerator": "GPU",
    "colab": {
      "provenance": []
    },
    "gpuClass": "standard",
    "kernelspec": {
      "display_name": "Python 3",
      "name": "python3"
    },
    "language_info": {
      "name": "python"
    }
  },
  "nbformat": 4,
  "nbformat_minor": 0
}